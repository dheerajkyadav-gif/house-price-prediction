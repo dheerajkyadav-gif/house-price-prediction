{
 "cells": [
  {
   "cell_type": "code",
   "execution_count": 27,
   "metadata": {},
   "outputs": [],
   "source": [
    "import numpy as np\n",
    "import pandas as pd\n",
    "import matplotlib.pyplot as plt\n",
    "import seaborn as sns\n",
    "import warnings\n",
    "warnings.filterwarnings('ignore')\n",
    "from sklearn.model_selection import train_test_split\n",
    "from sklearn.linear_model import LinearRegression\n",
    "from sklearn.tree import DecisionTreeRegressor\n",
    "from sklearn.ensemble import RandomForestRegressor\n",
    "from sklearn.metrics import r2_score,mean_absolute_error,mean_squared_error\n",
    "from math import sqrt"
   ]
  },
  {
   "cell_type": "code",
   "execution_count": 28,
   "metadata": {},
   "outputs": [
    {
     "data": {
      "text/html": [
       "<div>\n",
       "<style scoped>\n",
       "    .dataframe tbody tr th:only-of-type {\n",
       "        vertical-align: middle;\n",
       "    }\n",
       "\n",
       "    .dataframe tbody tr th {\n",
       "        vertical-align: top;\n",
       "    }\n",
       "\n",
       "    .dataframe thead th {\n",
       "        text-align: right;\n",
       "    }\n",
       "</style>\n",
       "<table border=\"1\" class=\"dataframe\">\n",
       "  <thead>\n",
       "    <tr style=\"text-align: right;\">\n",
       "      <th></th>\n",
       "      <th>Price</th>\n",
       "      <th>Area</th>\n",
       "      <th>Location</th>\n",
       "      <th>No. of Bedrooms</th>\n",
       "      <th>New/Resale</th>\n",
       "      <th>Gymnasium</th>\n",
       "      <th>Lift Available</th>\n",
       "      <th>Car Parking</th>\n",
       "      <th>Maintenance Staff</th>\n",
       "      <th>24x7 Security</th>\n",
       "      <th>Children</th>\n",
       "      <th>Clubhouse</th>\n",
       "      <th>Intercom</th>\n",
       "      <th>Landscaped Gardens</th>\n",
       "      <th>Indoor Games</th>\n",
       "      <th>Gas Connection</th>\n",
       "      <th>Jogging Track</th>\n",
       "      <th>Swimming Pool</th>\n",
       "    </tr>\n",
       "  </thead>\n",
       "  <tbody>\n",
       "    <tr>\n",
       "      <th>0</th>\n",
       "      <td>4850000</td>\n",
       "      <td>720</td>\n",
       "      <td>Kharghar</td>\n",
       "      <td>1</td>\n",
       "      <td>0</td>\n",
       "      <td>0</td>\n",
       "      <td>1</td>\n",
       "      <td>1</td>\n",
       "      <td>1</td>\n",
       "      <td>1</td>\n",
       "      <td>0</td>\n",
       "      <td>0</td>\n",
       "      <td>0</td>\n",
       "      <td>0</td>\n",
       "      <td>0</td>\n",
       "      <td>0</td>\n",
       "      <td>0</td>\n",
       "      <td>0</td>\n",
       "    </tr>\n",
       "    <tr>\n",
       "      <th>1</th>\n",
       "      <td>4500000</td>\n",
       "      <td>600</td>\n",
       "      <td>Kharghar</td>\n",
       "      <td>1</td>\n",
       "      <td>0</td>\n",
       "      <td>1</td>\n",
       "      <td>1</td>\n",
       "      <td>1</td>\n",
       "      <td>1</td>\n",
       "      <td>1</td>\n",
       "      <td>0</td>\n",
       "      <td>1</td>\n",
       "      <td>0</td>\n",
       "      <td>0</td>\n",
       "      <td>0</td>\n",
       "      <td>0</td>\n",
       "      <td>1</td>\n",
       "      <td>1</td>\n",
       "    </tr>\n",
       "    <tr>\n",
       "      <th>2</th>\n",
       "      <td>6700000</td>\n",
       "      <td>650</td>\n",
       "      <td>Kharghar</td>\n",
       "      <td>1</td>\n",
       "      <td>0</td>\n",
       "      <td>1</td>\n",
       "      <td>1</td>\n",
       "      <td>1</td>\n",
       "      <td>1</td>\n",
       "      <td>1</td>\n",
       "      <td>1</td>\n",
       "      <td>1</td>\n",
       "      <td>1</td>\n",
       "      <td>0</td>\n",
       "      <td>0</td>\n",
       "      <td>0</td>\n",
       "      <td>1</td>\n",
       "      <td>1</td>\n",
       "    </tr>\n",
       "    <tr>\n",
       "      <th>3</th>\n",
       "      <td>4500000</td>\n",
       "      <td>650</td>\n",
       "      <td>Kharghar</td>\n",
       "      <td>1</td>\n",
       "      <td>0</td>\n",
       "      <td>0</td>\n",
       "      <td>1</td>\n",
       "      <td>1</td>\n",
       "      <td>1</td>\n",
       "      <td>1</td>\n",
       "      <td>0</td>\n",
       "      <td>0</td>\n",
       "      <td>1</td>\n",
       "      <td>1</td>\n",
       "      <td>0</td>\n",
       "      <td>0</td>\n",
       "      <td>0</td>\n",
       "      <td>0</td>\n",
       "    </tr>\n",
       "    <tr>\n",
       "      <th>4</th>\n",
       "      <td>5000000</td>\n",
       "      <td>665</td>\n",
       "      <td>Kharghar</td>\n",
       "      <td>1</td>\n",
       "      <td>0</td>\n",
       "      <td>0</td>\n",
       "      <td>1</td>\n",
       "      <td>1</td>\n",
       "      <td>1</td>\n",
       "      <td>1</td>\n",
       "      <td>0</td>\n",
       "      <td>0</td>\n",
       "      <td>1</td>\n",
       "      <td>1</td>\n",
       "      <td>0</td>\n",
       "      <td>0</td>\n",
       "      <td>0</td>\n",
       "      <td>0</td>\n",
       "    </tr>\n",
       "    <tr>\n",
       "      <th>...</th>\n",
       "      <td>...</td>\n",
       "      <td>...</td>\n",
       "      <td>...</td>\n",
       "      <td>...</td>\n",
       "      <td>...</td>\n",
       "      <td>...</td>\n",
       "      <td>...</td>\n",
       "      <td>...</td>\n",
       "      <td>...</td>\n",
       "      <td>...</td>\n",
       "      <td>...</td>\n",
       "      <td>...</td>\n",
       "      <td>...</td>\n",
       "      <td>...</td>\n",
       "      <td>...</td>\n",
       "      <td>...</td>\n",
       "      <td>...</td>\n",
       "      <td>...</td>\n",
       "    </tr>\n",
       "    <tr>\n",
       "      <th>14059</th>\n",
       "      <td>14500000</td>\n",
       "      <td>1180</td>\n",
       "      <td>Mira Road</td>\n",
       "      <td>2</td>\n",
       "      <td>0</td>\n",
       "      <td>9</td>\n",
       "      <td>9</td>\n",
       "      <td>9</td>\n",
       "      <td>9</td>\n",
       "      <td>9</td>\n",
       "      <td>9</td>\n",
       "      <td>9</td>\n",
       "      <td>9</td>\n",
       "      <td>9</td>\n",
       "      <td>9</td>\n",
       "      <td>9</td>\n",
       "      <td>9</td>\n",
       "      <td>9</td>\n",
       "    </tr>\n",
       "    <tr>\n",
       "      <th>14060</th>\n",
       "      <td>14500000</td>\n",
       "      <td>530</td>\n",
       "      <td>Naigaon</td>\n",
       "      <td>1</td>\n",
       "      <td>1</td>\n",
       "      <td>9</td>\n",
       "      <td>9</td>\n",
       "      <td>9</td>\n",
       "      <td>9</td>\n",
       "      <td>9</td>\n",
       "      <td>9</td>\n",
       "      <td>9</td>\n",
       "      <td>9</td>\n",
       "      <td>9</td>\n",
       "      <td>9</td>\n",
       "      <td>9</td>\n",
       "      <td>9</td>\n",
       "      <td>9</td>\n",
       "    </tr>\n",
       "    <tr>\n",
       "      <th>14061</th>\n",
       "      <td>4100000</td>\n",
       "      <td>700</td>\n",
       "      <td>Shirgaon</td>\n",
       "      <td>1</td>\n",
       "      <td>0</td>\n",
       "      <td>9</td>\n",
       "      <td>9</td>\n",
       "      <td>9</td>\n",
       "      <td>9</td>\n",
       "      <td>9</td>\n",
       "      <td>9</td>\n",
       "      <td>9</td>\n",
       "      <td>9</td>\n",
       "      <td>9</td>\n",
       "      <td>9</td>\n",
       "      <td>9</td>\n",
       "      <td>9</td>\n",
       "      <td>9</td>\n",
       "    </tr>\n",
       "    <tr>\n",
       "      <th>14062</th>\n",
       "      <td>2750000</td>\n",
       "      <td>995</td>\n",
       "      <td>Mira Road</td>\n",
       "      <td>2</td>\n",
       "      <td>0</td>\n",
       "      <td>9</td>\n",
       "      <td>9</td>\n",
       "      <td>9</td>\n",
       "      <td>9</td>\n",
       "      <td>9</td>\n",
       "      <td>9</td>\n",
       "      <td>9</td>\n",
       "      <td>9</td>\n",
       "      <td>9</td>\n",
       "      <td>9</td>\n",
       "      <td>9</td>\n",
       "      <td>9</td>\n",
       "      <td>9</td>\n",
       "    </tr>\n",
       "    <tr>\n",
       "      <th>14063</th>\n",
       "      <td>2750000</td>\n",
       "      <td>1020</td>\n",
       "      <td>Mira Road</td>\n",
       "      <td>2</td>\n",
       "      <td>0</td>\n",
       "      <td>9</td>\n",
       "      <td>9</td>\n",
       "      <td>9</td>\n",
       "      <td>9</td>\n",
       "      <td>9</td>\n",
       "      <td>9</td>\n",
       "      <td>9</td>\n",
       "      <td>9</td>\n",
       "      <td>9</td>\n",
       "      <td>9</td>\n",
       "      <td>9</td>\n",
       "      <td>9</td>\n",
       "      <td>9</td>\n",
       "    </tr>\n",
       "  </tbody>\n",
       "</table>\n",
       "<p>14064 rows × 18 columns</p>\n",
       "</div>"
      ],
      "text/plain": [
       "          Price  Area   Location  No. of Bedrooms  New/Resale  Gymnasium  \\\n",
       "0       4850000   720   Kharghar                1           0          0   \n",
       "1       4500000   600   Kharghar                1           0          1   \n",
       "2       6700000   650   Kharghar                1           0          1   \n",
       "3       4500000   650   Kharghar                1           0          0   \n",
       "4       5000000   665   Kharghar                1           0          0   \n",
       "...         ...   ...        ...              ...         ...        ...   \n",
       "14059  14500000  1180  Mira Road                2           0          9   \n",
       "14060  14500000   530    Naigaon                1           1          9   \n",
       "14061   4100000   700   Shirgaon                1           0          9   \n",
       "14062   2750000   995  Mira Road                2           0          9   \n",
       "14063   2750000  1020  Mira Road                2           0          9   \n",
       "\n",
       "       Lift Available  Car Parking  Maintenance Staff  24x7 Security  \\\n",
       "0                   1            1                  1              1   \n",
       "1                   1            1                  1              1   \n",
       "2                   1            1                  1              1   \n",
       "3                   1            1                  1              1   \n",
       "4                   1            1                  1              1   \n",
       "...               ...          ...                ...            ...   \n",
       "14059               9            9                  9              9   \n",
       "14060               9            9                  9              9   \n",
       "14061               9            9                  9              9   \n",
       "14062               9            9                  9              9   \n",
       "14063               9            9                  9              9   \n",
       "\n",
       "       Children  Clubhouse  Intercom  Landscaped Gardens  Indoor Games  \\\n",
       "0             0          0         0                   0             0   \n",
       "1             0          1         0                   0             0   \n",
       "2             1          1         1                   0             0   \n",
       "3             0          0         1                   1             0   \n",
       "4             0          0         1                   1             0   \n",
       "...         ...        ...       ...                 ...           ...   \n",
       "14059         9          9         9                   9             9   \n",
       "14060         9          9         9                   9             9   \n",
       "14061         9          9         9                   9             9   \n",
       "14062         9          9         9                   9             9   \n",
       "14063         9          9         9                   9             9   \n",
       "\n",
       "       Gas Connection  Jogging Track  Swimming Pool  \n",
       "0                   0              0              0  \n",
       "1                   0              1              1  \n",
       "2                   0              1              1  \n",
       "3                   0              0              0  \n",
       "4                   0              0              0  \n",
       "...               ...            ...            ...  \n",
       "14059               9              9              9  \n",
       "14060               9              9              9  \n",
       "14061               9              9              9  \n",
       "14062               9              9              9  \n",
       "14063               9              9              9  \n",
       "\n",
       "[14064 rows x 18 columns]"
      ]
     },
     "execution_count": 28,
     "metadata": {},
     "output_type": "execute_result"
    }
   ],
   "source": [
    "data=pd.read_csv('houses.csv')\n",
    "data"
   ]
  },
  {
   "cell_type": "code",
   "execution_count": 29,
   "metadata": {},
   "outputs": [],
   "source": [
    "data.drop(data[data['Location'] == 'A'].index, inplace=True)"
   ]
  },
  {
   "cell_type": "code",
   "execution_count": 30,
   "metadata": {},
   "outputs": [
    {
     "data": {
      "text/plain": [
       "Price                 0\n",
       "Area                  0\n",
       "Location              0\n",
       "No. of Bedrooms       0\n",
       "New/Resale            0\n",
       "Gymnasium             0\n",
       "Lift Available        0\n",
       "Car Parking           0\n",
       "Maintenance Staff     0\n",
       "24x7 Security         0\n",
       "Children              0\n",
       "Clubhouse             0\n",
       "Intercom              0\n",
       "Landscaped Gardens    0\n",
       "Indoor Games          0\n",
       "Gas Connection        0\n",
       "Jogging Track         0\n",
       "Swimming Pool         0\n",
       "dtype: int64"
      ]
     },
     "execution_count": 30,
     "metadata": {},
     "output_type": "execute_result"
    }
   ],
   "source": [
    "data.isnull().sum()"
   ]
  },
  {
   "cell_type": "code",
   "execution_count": 31,
   "metadata": {},
   "outputs": [
    {
     "data": {
      "text/plain": [
       "(14063, 18)"
      ]
     },
     "execution_count": 31,
     "metadata": {},
     "output_type": "execute_result"
    }
   ],
   "source": [
    "data.shape"
   ]
  },
  {
   "cell_type": "code",
   "execution_count": 32,
   "metadata": {},
   "outputs": [
    {
     "data": {
      "text/plain": [
       "Index(['Price', 'Area', 'Location', 'No. of Bedrooms', 'New/Resale',\n",
       "       'Gymnasium', 'Lift Available', 'Car Parking', 'Maintenance Staff',\n",
       "       '24x7 Security', 'Children', 'Clubhouse', 'Intercom',\n",
       "       'Landscaped Gardens', 'Indoor Games', 'Gas Connection', 'Jogging Track',\n",
       "       'Swimming Pool'],\n",
       "      dtype='object')"
      ]
     },
     "execution_count": 32,
     "metadata": {},
     "output_type": "execute_result"
    }
   ],
   "source": [
    "data.columns"
   ]
  },
  {
   "cell_type": "code",
   "execution_count": 33,
   "metadata": {},
   "outputs": [
    {
     "name": "stdout",
     "output_type": "stream",
     "text": [
      "<class 'pandas.core.frame.DataFrame'>\n",
      "Index: 14063 entries, 0 to 14063\n",
      "Data columns (total 18 columns):\n",
      " #   Column              Non-Null Count  Dtype \n",
      "---  ------              --------------  ----- \n",
      " 0   Price               14063 non-null  int64 \n",
      " 1   Area                14063 non-null  int64 \n",
      " 2   Location            14063 non-null  object\n",
      " 3   No. of Bedrooms     14063 non-null  int64 \n",
      " 4   New/Resale          14063 non-null  int64 \n",
      " 5   Gymnasium           14063 non-null  int64 \n",
      " 6   Lift Available      14063 non-null  int64 \n",
      " 7   Car Parking         14063 non-null  int64 \n",
      " 8   Maintenance Staff   14063 non-null  int64 \n",
      " 9   24x7 Security       14063 non-null  int64 \n",
      " 10  Children            14063 non-null  int64 \n",
      " 11  Clubhouse           14063 non-null  int64 \n",
      " 12  Intercom            14063 non-null  int64 \n",
      " 13  Landscaped Gardens  14063 non-null  int64 \n",
      " 14  Indoor Games        14063 non-null  int64 \n",
      " 15  Gas Connection      14063 non-null  int64 \n",
      " 16  Jogging Track       14063 non-null  int64 \n",
      " 17  Swimming Pool       14063 non-null  int64 \n",
      "dtypes: int64(17), object(1)\n",
      "memory usage: 2.0+ MB\n"
     ]
    }
   ],
   "source": [
    "data.info()"
   ]
  },
  {
   "cell_type": "code",
   "execution_count": 34,
   "metadata": {},
   "outputs": [
    {
     "data": {
      "text/plain": [
       "Price                  int64\n",
       "Area                   int64\n",
       "Location              object\n",
       "No. of Bedrooms        int64\n",
       "New/Resale             int64\n",
       "Gymnasium              int64\n",
       "Lift Available         int64\n",
       "Car Parking            int64\n",
       "Maintenance Staff      int64\n",
       "24x7 Security          int64\n",
       "Children               int64\n",
       "Clubhouse              int64\n",
       "Intercom               int64\n",
       "Landscaped Gardens     int64\n",
       "Indoor Games           int64\n",
       "Gas Connection         int64\n",
       "Jogging Track          int64\n",
       "Swimming Pool          int64\n",
       "dtype: object"
      ]
     },
     "execution_count": 34,
     "metadata": {},
     "output_type": "execute_result"
    }
   ],
   "source": [
    "data.dtypes"
   ]
  },
  {
   "cell_type": "code",
   "execution_count": 35,
   "metadata": {},
   "outputs": [
    {
     "data": {
      "text/plain": [
       "261"
      ]
     },
     "execution_count": 35,
     "metadata": {},
     "output_type": "execute_result"
    }
   ],
   "source": [
    "data['Location'].nunique()"
   ]
  },
  {
   "cell_type": "code",
   "execution_count": 36,
   "metadata": {},
   "outputs": [
    {
     "data": {
      "text/plain": [
       "array(['Kharghar', 'Dombivali', 'Churchgate', 'Prabhadevi', 'Jogeshwari',\n",
       "       'Kalyan', 'Malad', 'Virar', 'Borivali', 'Mira Road', 'Goregaon',\n",
       "       'Kandivali', 'Andheri', 'Wadala', 'Ulwe', 'Dahisar', 'Bhandup',\n",
       "       'Thakur Village', 'Santacruz', 'Kanjurmarg', 'I C Colony',\n",
       "       'Dahisar W', 'Marol', 'Parel', 'Worli', 'Chembur Shell Colony',\n",
       "       'Central Avenue', 'Chembur', 'Diamond Market Road', 'Mulund',\n",
       "       'Nalasopara', 'Raheja Vihar', 'Powai', 'Mhada Colony',\n",
       "       'Tolaram Colony', 'Taloja', 'Thane', 'Vangani', 'Kamothe',\n",
       "       'Navi Basti', 'Rutu Enclave', 'Azad Nagar',\n",
       "       'Sindhi Society Chembur', 'Kurla', 'Sahkar Nagar', 'Deonar',\n",
       "       'Jankalyan Nagar', 'Badlapur', 'Ambernath', 'Vakola',\n",
       "       'Almeida Park', 'Khar', 'Bandra', 'Pali Hill', 'Road', 'Palghar',\n",
       "       'Vivek Vidyalaya Marg', 'Vasai', 'Nahur', 'Panvel',\n",
       "       'Mira Bhayandar', 'Juhu', 'Naigaon', 'Dronagiri', 'Nerul',\n",
       "       'Karanjade', 'Sanpada', 'Ghodbunder Road', 'Bhiwandi', 'Dadar',\n",
       "       'Ghatkopar', 'Breach Candy', 'Asangaon', 'Koper Khairane ',\n",
       "       'Koper Khairane', 'Vikhroli', 'Magathane', 'Rawal Pada',\n",
       "       'Dokali Pada', 'Dattapada', 'Rajendra Nagar', 'Kulupwadi',\n",
       "       'Amardeep Colony', 'Pant Nagar', 'South Mumbai', 'Four Bunglows',\n",
       "       'Kolshet', 'Hiranandani Meadows', 'Kalpataru', 'Petali',\n",
       "       'Vasant Vihar', 'Shirgaon', 'Pokhran', 'Juhu Tara', 'Peddar Road',\n",
       "       'Palm Beach', 'Sector', 'Tilak Nagar', 'Tardeo', 'Napeansea Road',\n",
       "       'Mahalaxmi', 'Natakwala Lane', 'Link Road', 'Devidas Cross Lane',\n",
       "       'Soniwadi Road', 'Haridas Nagar', 'Shimpoli', 'Tps Road',\n",
       "       'Rustomjee Global City', 'Sunil Nagar', 'Khanda Colony', 'Airoli',\n",
       "       'Ranjanpada', 'Belapur', 'Roadpali', 'Seawoods', 'Lokhandwala ',\n",
       "       'Shastri Nagar', 'Kalwa', 'Parsik Nagar', 'Maharashtra Nagar',\n",
       "       'Patlipada', 'Majiwada', 'Kolshet Road', 'Pokharan Road',\n",
       "       'Kharegaon', 'Panch Pakhadi', 'Dn Nagar Road', 'Godrej Hill',\n",
       "       'Ganesh Nagar', 'Haware City', 'M.G. Road', 'Akurli Nagar',\n",
       "       'Kasar Vadavali', 'South Mumbai ', 'Katrap', 'Kasheli', 'Vasind',\n",
       "       'Thakurli', 'Shakti Nagar', 'Bhayandar', 'Ulhasnagar', 'Koproli',\n",
       "       'Mumbai Central', 'Manpada', 'Govind Nagar',\n",
       "       'Krishanlal Marwah Marg', 'Kalamboli', 'Lokhandwala',\n",
       "       'Patel Nagar', 'Yari Road', 'Thakur Complex', 'Ghansoli',\n",
       "       'Jeejamata Nagar', 'Pandurangwadi', 'Shreyas Colony',\n",
       "       'Kannamwar Nagar Ii', 'Gokuldham', 'Bangur Nagar',\n",
       "       'Shivaji Colony', 'Jawahar Nagar', 'Vedant Complex', 'Titwala',\n",
       "       'Manvel Pada Road', 'Govandi', 'Shilphata Road Thane',\n",
       "       'Samata Nagar', 'Wadi Bandar', 'Kapur Bawdi',\n",
       "       'Thane Belapur Road Kalwa', 'Suburbs South Mumbai', 'Ramdev Park',\n",
       "       'Seawoods Navi South Mumbai', 'Diva', 'Gundavali Gaothan',\n",
       "       'Kondivita Road', 'Koldongri', 'Saki Naka', 'Versova',\n",
       "       'Hanuman Nagar', 'Shiv Sagar', 'Grant Road', 'Sriprastha',\n",
       "       'Off Nepean Sea Road', 'Morya Nagar', 'Worli Sea Face', 'Agripada',\n",
       "       'Sion', 'Girgaon', 'IT Colony', 'Phase', 'Haji Ali', 'Yogi Hills',\n",
       "       'Owale', 'Mg Road', 'Rasayani', 'Kavesar', 'Kopara',\n",
       "       'Vrindavan Society', 'Parel Village', 'Karave Nagar', 'Antop Hill',\n",
       "       'Suman Nagar', 'Bhakti Park', 'Hanuman Chowk', 'Willingdon',\n",
       "       'Vishnu Nagar', 'Vichumbe', 'Vashi', 'Poonam Sagar Complex',\n",
       "       'Balkum', 'Hiranandani Estates', 'Vartak Nagar', 'Charkop',\n",
       "       'Dhanukarwadi', 'Vazira', 'Palava', 'Oshiwara Lane',\n",
       "       'Seven Bunglow', 'Poddar Road', 'Gulmohar Road', 'Vile Parle',\n",
       "       'Pokhran Road', 'Sainath Nagar', 'Manpada ', 'Charkop Sector',\n",
       "       'Marine Lines', 'BKC', 'Sec New', 'Shil Phata', 'Ville Parle',\n",
       "       'Matunga', 'Dharavi', 'Anjurdive', 'Uran', 'Boisar', 'Sewri',\n",
       "       'Malabar Hill', 'Ambivali', 'Vijay Nagar', 'Chedda Nagar',\n",
       "       'Kharodi', 'Palidevad', 'Mahim', 'Khalapur', 'Karjat',\n",
       "       'Vitthalwadi', 'Bhoiwada Kalyan', 'Beturkar Pada', 'Nilje Gaon',\n",
       "       'Khopoli', 'Gulal Wadi', 'Chandivali', 'Nere', 'Kewale',\n",
       "       'Sen Nagar', 'Adaigaon', 'Syndicate', 'Gandhar Nagar', 'Byculla',\n",
       "       'Padle Gaon'], dtype=object)"
      ]
     },
     "execution_count": 36,
     "metadata": {},
     "output_type": "execute_result"
    }
   ],
   "source": [
    "data['Location'].unique()"
   ]
  },
  {
   "cell_type": "code",
   "execution_count": 37,
   "metadata": {},
   "outputs": [],
   "source": [
    "data=data[data['No. of Bedrooms']!=7]"
   ]
  },
  {
   "cell_type": "code",
   "execution_count": 38,
   "metadata": {},
   "outputs": [
    {
     "data": {
      "image/png": "[encoded data removed]",
      "text/plain": [
       "<Figure size 1000x600 with 1 Axes>"
      ]
     },
     "metadata": {},
     "output_type": "display_data"
    }
   ],
   "source": [
    "plt.figure(figsize=(10, 6))\n",
    "sns.boxplot(x='No. of Bedrooms', y='Price', data=data)\n",
    "plt.title('House Prices by Number of Bedrooms')\n",
    "plt.xlabel('Number of Bedrooms')\n",
    "plt.ylabel('Price (in Crores)')\n",
    "plt.grid(True)\n",
    "plt.show()\n"
   ]
  },
  {
   "cell_type": "code",
   "execution_count": 39,
   "metadata": {},
   "outputs": [],
   "source": [
    "data_1_bhk = data[data['No. of Bedrooms'] == 1]\n",
    "data_2_bhk = data[data['No. of Bedrooms'] == 2]\n",
    "data_3_bhk = data[data['No. of Bedrooms'] == 3]\n",
    "data_4_bhk = data[data['No. of Bedrooms'] == 4]\n",
    "data_5_bhk = data[data['No. of Bedrooms'] == 5]\n",
    "data_6_bhk = data[data['No. of Bedrooms'] == 6]"
   ]
  },
  {
   "cell_type": "code",
   "execution_count": 40,
   "metadata": {},
   "outputs": [
    {
     "data": {
      "text/plain": [
       "Index(['Price', 'Area', 'Location', 'No. of Bedrooms', 'New/Resale',\n",
       "       'Gymnasium', 'Lift Available', 'Car Parking', 'Maintenance Staff',\n",
       "       '24x7 Security', 'Children', 'Clubhouse', 'Intercom',\n",
       "       'Landscaped Gardens', 'Indoor Games', 'Gas Connection', 'Jogging Track',\n",
       "       'Swimming Pool'],\n",
       "      dtype='object')"
      ]
     },
     "execution_count": 40,
     "metadata": {},
     "output_type": "execute_result"
    }
   ],
   "source": [
    "data.columns"
   ]
  },
  {
   "cell_type": "code",
   "execution_count": 41,
   "metadata": {},
   "outputs": [],
   "source": [
    "data['Price_per_sqft'] = data['Price']/data['Area']"
   ]
  },
  {
   "cell_type": "code",
   "execution_count": 42,
   "metadata": {},
   "outputs": [
    {
     "data": {
      "text/plain": [
       "841"
      ]
     },
     "execution_count": 42,
     "metadata": {},
     "output_type": "execute_result"
    }
   ],
   "source": [
    "data.duplicated().sum()"
   ]
  },
  {
   "cell_type": "code",
   "execution_count": 43,
   "metadata": {},
   "outputs": [],
   "source": [
    "data.drop_duplicates(inplace=True)"
   ]
  },
  {
   "cell_type": "code",
   "execution_count": 44,
   "metadata": {},
   "outputs": [
    {
     "data": {
      "text/plain": [
       "0"
      ]
     },
     "execution_count": 44,
     "metadata": {},
     "output_type": "execute_result"
    }
   ],
   "source": [
    "data.duplicated().sum()"
   ]
  },
  {
   "cell_type": "code",
   "execution_count": 45,
   "metadata": {},
   "outputs": [],
   "source": [
    "corr_df=data[['Price', 'Area','No. of Bedrooms', 'New/Resale','Price_per_sqft']]"
   ]
  },
  {
   "cell_type": "code",
   "execution_count": 46,
   "metadata": {},
   "outputs": [
    {
     "data": {
      "text/plain": [
       "Price                int64\n",
       "Area                 int64\n",
       "No. of Bedrooms      int64\n",
       "New/Resale           int64\n",
       "Price_per_sqft     float64\n",
       "dtype: object"
      ]
     },
     "execution_count": 46,
     "metadata": {},
     "output_type": "execute_result"
    }
   ],
   "source": [
    "corr_df.dtypes"
   ]
  },
  {
   "cell_type": "code",
   "execution_count": 47,
   "metadata": {},
   "outputs": [
    {
     "data": {
      "text/plain": [
       "<Axes: >"
      ]
     },
     "execution_count": 47,
     "metadata": {},
     "output_type": "execute_result"
    },
    {
     "data": {
      "image/png": "[encoded data removed]",
      "text/plain": [
       "<Figure size 800x600 with 2 Axes>"
      ]
     },
     "metadata": {},
     "output_type": "display_data"
    }
   ],
   "source": [
    "plt.figure(figsize=(8,6))\n",
    "sns.heatmap(corr_df.corr(),cmap='Blues',annot=True)"
   ]
  },
  {
   "cell_type": "code",
   "execution_count": 48,
   "metadata": {},
   "outputs": [
    {
     "data": {
      "text/html": [
       "<div>\n",
       "<style scoped>\n",
       "    .dataframe tbody tr th:only-of-type {\n",
       "        vertical-align: middle;\n",
       "    }\n",
       "\n",
       "    .dataframe tbody tr th {\n",
       "        vertical-align: top;\n",
       "    }\n",
       "\n",
       "    .dataframe thead th {\n",
       "        text-align: right;\n",
       "    }\n",
       "</style>\n",
       "<table border=\"1\" class=\"dataframe\">\n",
       "  <thead>\n",
       "    <tr style=\"text-align: right;\">\n",
       "      <th></th>\n",
       "      <th>Price</th>\n",
       "      <th>Area</th>\n",
       "      <th>Location</th>\n",
       "      <th>No. of Bedrooms</th>\n",
       "      <th>New/Resale</th>\n",
       "      <th>Gymnasium</th>\n",
       "      <th>Lift Available</th>\n",
       "      <th>Car Parking</th>\n",
       "      <th>Maintenance Staff</th>\n",
       "      <th>24x7 Security</th>\n",
       "      <th>Children</th>\n",
       "      <th>Clubhouse</th>\n",
       "      <th>Intercom</th>\n",
       "      <th>Landscaped Gardens</th>\n",
       "      <th>Indoor Games</th>\n",
       "      <th>Gas Connection</th>\n",
       "      <th>Jogging Track</th>\n",
       "      <th>Swimming Pool</th>\n",
       "      <th>Price_per_sqft</th>\n",
       "    </tr>\n",
       "  </thead>\n",
       "  <tbody>\n",
       "    <tr>\n",
       "      <th>0</th>\n",
       "      <td>4850000</td>\n",
       "      <td>720</td>\n",
       "      <td>103</td>\n",
       "      <td>1</td>\n",
       "      <td>0</td>\n",
       "      <td>0</td>\n",
       "      <td>1</td>\n",
       "      <td>1</td>\n",
       "      <td>1</td>\n",
       "      <td>1</td>\n",
       "      <td>0</td>\n",
       "      <td>0</td>\n",
       "      <td>0</td>\n",
       "      <td>0</td>\n",
       "      <td>0</td>\n",
       "      <td>0</td>\n",
       "      <td>0</td>\n",
       "      <td>0</td>\n",
       "      <td>6736.111111</td>\n",
       "    </tr>\n",
       "    <tr>\n",
       "      <th>1</th>\n",
       "      <td>4500000</td>\n",
       "      <td>600</td>\n",
       "      <td>103</td>\n",
       "      <td>1</td>\n",
       "      <td>0</td>\n",
       "      <td>1</td>\n",
       "      <td>1</td>\n",
       "      <td>1</td>\n",
       "      <td>1</td>\n",
       "      <td>1</td>\n",
       "      <td>0</td>\n",
       "      <td>1</td>\n",
       "      <td>0</td>\n",
       "      <td>0</td>\n",
       "      <td>0</td>\n",
       "      <td>0</td>\n",
       "      <td>1</td>\n",
       "      <td>1</td>\n",
       "      <td>7500.000000</td>\n",
       "    </tr>\n",
       "    <tr>\n",
       "      <th>2</th>\n",
       "      <td>6700000</td>\n",
       "      <td>650</td>\n",
       "      <td>103</td>\n",
       "      <td>1</td>\n",
       "      <td>0</td>\n",
       "      <td>1</td>\n",
       "      <td>1</td>\n",
       "      <td>1</td>\n",
       "      <td>1</td>\n",
       "      <td>1</td>\n",
       "      <td>1</td>\n",
       "      <td>1</td>\n",
       "      <td>1</td>\n",
       "      <td>0</td>\n",
       "      <td>0</td>\n",
       "      <td>0</td>\n",
       "      <td>1</td>\n",
       "      <td>1</td>\n",
       "      <td>10307.692308</td>\n",
       "    </tr>\n",
       "    <tr>\n",
       "      <th>3</th>\n",
       "      <td>4500000</td>\n",
       "      <td>650</td>\n",
       "      <td>103</td>\n",
       "      <td>1</td>\n",
       "      <td>0</td>\n",
       "      <td>0</td>\n",
       "      <td>1</td>\n",
       "      <td>1</td>\n",
       "      <td>1</td>\n",
       "      <td>1</td>\n",
       "      <td>0</td>\n",
       "      <td>0</td>\n",
       "      <td>1</td>\n",
       "      <td>1</td>\n",
       "      <td>0</td>\n",
       "      <td>0</td>\n",
       "      <td>0</td>\n",
       "      <td>0</td>\n",
       "      <td>6923.076923</td>\n",
       "    </tr>\n",
       "    <tr>\n",
       "      <th>4</th>\n",
       "      <td>5000000</td>\n",
       "      <td>665</td>\n",
       "      <td>103</td>\n",
       "      <td>1</td>\n",
       "      <td>0</td>\n",
       "      <td>0</td>\n",
       "      <td>1</td>\n",
       "      <td>1</td>\n",
       "      <td>1</td>\n",
       "      <td>1</td>\n",
       "      <td>0</td>\n",
       "      <td>0</td>\n",
       "      <td>1</td>\n",
       "      <td>1</td>\n",
       "      <td>0</td>\n",
       "      <td>0</td>\n",
       "      <td>0</td>\n",
       "      <td>0</td>\n",
       "      <td>7518.796992</td>\n",
       "    </tr>\n",
       "    <tr>\n",
       "      <th>...</th>\n",
       "      <td>...</td>\n",
       "      <td>...</td>\n",
       "      <td>...</td>\n",
       "      <td>...</td>\n",
       "      <td>...</td>\n",
       "      <td>...</td>\n",
       "      <td>...</td>\n",
       "      <td>...</td>\n",
       "      <td>...</td>\n",
       "      <td>...</td>\n",
       "      <td>...</td>\n",
       "      <td>...</td>\n",
       "      <td>...</td>\n",
       "      <td>...</td>\n",
       "      <td>...</td>\n",
       "      <td>...</td>\n",
       "      <td>...</td>\n",
       "      <td>...</td>\n",
       "      <td>...</td>\n",
       "    </tr>\n",
       "    <tr>\n",
       "      <th>14059</th>\n",
       "      <td>14500000</td>\n",
       "      <td>1180</td>\n",
       "      <td>137</td>\n",
       "      <td>2</td>\n",
       "      <td>0</td>\n",
       "      <td>9</td>\n",
       "      <td>9</td>\n",
       "      <td>9</td>\n",
       "      <td>9</td>\n",
       "      <td>9</td>\n",
       "      <td>9</td>\n",
       "      <td>9</td>\n",
       "      <td>9</td>\n",
       "      <td>9</td>\n",
       "      <td>9</td>\n",
       "      <td>9</td>\n",
       "      <td>9</td>\n",
       "      <td>9</td>\n",
       "      <td>12288.135593</td>\n",
       "    </tr>\n",
       "    <tr>\n",
       "      <th>14060</th>\n",
       "      <td>14500000</td>\n",
       "      <td>530</td>\n",
       "      <td>142</td>\n",
       "      <td>1</td>\n",
       "      <td>1</td>\n",
       "      <td>9</td>\n",
       "      <td>9</td>\n",
       "      <td>9</td>\n",
       "      <td>9</td>\n",
       "      <td>9</td>\n",
       "      <td>9</td>\n",
       "      <td>9</td>\n",
       "      <td>9</td>\n",
       "      <td>9</td>\n",
       "      <td>9</td>\n",
       "      <td>9</td>\n",
       "      <td>9</td>\n",
       "      <td>9</td>\n",
       "      <td>27358.490566</td>\n",
       "    </tr>\n",
       "    <tr>\n",
       "      <th>14061</th>\n",
       "      <td>4100000</td>\n",
       "      <td>700</td>\n",
       "      <td>206</td>\n",
       "      <td>1</td>\n",
       "      <td>0</td>\n",
       "      <td>9</td>\n",
       "      <td>9</td>\n",
       "      <td>9</td>\n",
       "      <td>9</td>\n",
       "      <td>9</td>\n",
       "      <td>9</td>\n",
       "      <td>9</td>\n",
       "      <td>9</td>\n",
       "      <td>9</td>\n",
       "      <td>9</td>\n",
       "      <td>9</td>\n",
       "      <td>9</td>\n",
       "      <td>9</td>\n",
       "      <td>5857.142857</td>\n",
       "    </tr>\n",
       "    <tr>\n",
       "      <th>14062</th>\n",
       "      <td>2750000</td>\n",
       "      <td>995</td>\n",
       "      <td>137</td>\n",
       "      <td>2</td>\n",
       "      <td>0</td>\n",
       "      <td>9</td>\n",
       "      <td>9</td>\n",
       "      <td>9</td>\n",
       "      <td>9</td>\n",
       "      <td>9</td>\n",
       "      <td>9</td>\n",
       "      <td>9</td>\n",
       "      <td>9</td>\n",
       "      <td>9</td>\n",
       "      <td>9</td>\n",
       "      <td>9</td>\n",
       "      <td>9</td>\n",
       "      <td>9</td>\n",
       "      <td>2763.819095</td>\n",
       "    </tr>\n",
       "    <tr>\n",
       "      <th>14063</th>\n",
       "      <td>2750000</td>\n",
       "      <td>1020</td>\n",
       "      <td>137</td>\n",
       "      <td>2</td>\n",
       "      <td>0</td>\n",
       "      <td>9</td>\n",
       "      <td>9</td>\n",
       "      <td>9</td>\n",
       "      <td>9</td>\n",
       "      <td>9</td>\n",
       "      <td>9</td>\n",
       "      <td>9</td>\n",
       "      <td>9</td>\n",
       "      <td>9</td>\n",
       "      <td>9</td>\n",
       "      <td>9</td>\n",
       "      <td>9</td>\n",
       "      <td>9</td>\n",
       "      <td>2696.078431</td>\n",
       "    </tr>\n",
       "  </tbody>\n",
       "</table>\n",
       "<p>13218 rows × 19 columns</p>\n",
       "</div>"
      ],
      "text/plain": [
       "          Price  Area  Location  No. of Bedrooms  New/Resale  Gymnasium  \\\n",
       "0       4850000   720       103                1           0          0   \n",
       "1       4500000   600       103                1           0          1   \n",
       "2       6700000   650       103                1           0          1   \n",
       "3       4500000   650       103                1           0          0   \n",
       "4       5000000   665       103                1           0          0   \n",
       "...         ...   ...       ...              ...         ...        ...   \n",
       "14059  14500000  1180       137                2           0          9   \n",
       "14060  14500000   530       142                1           1          9   \n",
       "14061   4100000   700       206                1           0          9   \n",
       "14062   2750000   995       137                2           0          9   \n",
       "14063   2750000  1020       137                2           0          9   \n",
       "\n",
       "       Lift Available  Car Parking  Maintenance Staff  24x7 Security  \\\n",
       "0                   1            1                  1              1   \n",
       "1                   1            1                  1              1   \n",
       "2                   1            1                  1              1   \n",
       "3                   1            1                  1              1   \n",
       "4                   1            1                  1              1   \n",
       "...               ...          ...                ...            ...   \n",
       "14059               9            9                  9              9   \n",
       "14060               9            9                  9              9   \n",
       "14061               9            9                  9              9   \n",
       "14062               9            9                  9              9   \n",
       "14063               9            9                  9              9   \n",
       "\n",
       "       Children  Clubhouse  Intercom  Landscaped Gardens  Indoor Games  \\\n",
       "0             0          0         0                   0             0   \n",
       "1             0          1         0                   0             0   \n",
       "2             1          1         1                   0             0   \n",
       "3             0          0         1                   1             0   \n",
       "4             0          0         1                   1             0   \n",
       "...         ...        ...       ...                 ...           ...   \n",
       "14059         9          9         9                   9             9   \n",
       "14060         9          9         9                   9             9   \n",
       "14061         9          9         9                   9             9   \n",
       "14062         9          9         9                   9             9   \n",
       "14063         9          9         9                   9             9   \n",
       "\n",
       "       Gas Connection  Jogging Track  Swimming Pool  Price_per_sqft  \n",
       "0                   0              0              0     6736.111111  \n",
       "1                   0              1              1     7500.000000  \n",
       "2                   0              1              1    10307.692308  \n",
       "3                   0              0              0     6923.076923  \n",
       "4                   0              0              0     7518.796992  \n",
       "...               ...            ...            ...             ...  \n",
       "14059               9              9              9    12288.135593  \n",
       "14060               9              9              9    27358.490566  \n",
       "14061               9              9              9     5857.142857  \n",
       "14062               9              9              9     2763.819095  \n",
       "14063               9              9              9     2696.078431  \n",
       "\n",
       "[13218 rows x 19 columns]"
      ]
     },
     "execution_count": 48,
     "metadata": {},
     "output_type": "execute_result"
    }
   ],
   "source": [
    "from sklearn import preprocessing\n",
    "label_encoder = preprocessing.LabelEncoder()\n",
    "house_data=data.copy()\n",
    "house_data['Location']= label_encoder.fit_transform(house_data['Location'])\n",
    "house_data"
   ]
  },
  {
   "cell_type": "code",
   "execution_count": 49,
   "metadata": {},
   "outputs": [
    {
     "data": {
      "text/plain": [
       "(11553, 19)"
      ]
     },
     "execution_count": 49,
     "metadata": {},
     "output_type": "execute_result"
    }
   ],
   "source": [
    "def removeOutliners(data):\n",
    "  df_Out = pd.DataFrame()\n",
    "  for key,subdf in data.groupby('Location'):\n",
    "    m = np.mean(subdf.Price_per_sqft)\n",
    "    st = np.std(subdf.Price_per_sqft)\n",
    "    reduced = subdf[(subdf.Price_per_sqft>(m-st)) & (subdf.Price_per_sqft<=(m+st))]\n",
    "    df_Out = pd.concat([df_Out,reduced],ignore_index=True)\n",
    "  return df_Out\n",
    "house_data = removeOutliners(house_data)\n",
    "house_data.shape"
   ]
  },
  {
   "cell_type": "code",
   "execution_count": 50,
   "metadata": {},
   "outputs": [],
   "source": [
    "from sklearn.model_selection import train_test_split\n",
    "X=house_data.drop(columns=['Price'],axis=1)\n",
    "y=house_data['Price']"
   ]
  },
  {
   "cell_type": "code",
   "execution_count": 51,
   "metadata": {},
   "outputs": [
    {
     "name": "stdout",
     "output_type": "stream",
     "text": [
      "(8087, 18) (3466, 18)\n",
      "(8087,) (3466,)\n"
     ]
    }
   ],
   "source": [
    "X_train,X_test,y_train,y_test=train_test_split(X,y,test_size=0.3,random_state=10)\n",
    "print(X_train.shape,X_test.shape)\n",
    "print(y_train.shape,y_test.shape)"
   ]
  },
  {
   "cell_type": "code",
   "execution_count": 52,
   "metadata": {},
   "outputs": [
    {
     "name": "stdout",
     "output_type": "stream",
     "text": [
      "Precision : 71.73054732952676\n",
      "MAE: 2852242.8246455723\n",
      "MSE: 52668482609230.07\n",
      "RMSE: 7257305.464787194\n"
     ]
    }
   ],
   "source": [
    "lr_clf = LinearRegression()\n",
    "lr_clf.fit(X_train,y_train)\n",
    "\n",
    "LR_prediction=lr_clf.predict(X_test)\n",
    "print('Precision :',r2_score(LR_prediction,y_test)*100)\n",
    "print('MAE:',mean_absolute_error(LR_prediction,y_test))\n",
    "print('MSE:',mean_squared_error(LR_prediction,y_test))\n",
    "rmse = sqrt(mean_squared_error(LR_prediction,y_test))\n",
    "print('RMSE:',rmse)"
   ]
  },
  {
   "cell_type": "code",
   "execution_count": 53,
   "metadata": {},
   "outputs": [
    {
     "name": "stdout",
     "output_type": "stream",
     "text": [
      "Precision : 83.8673146267018\n",
      "MAE: 596285.0585689555\n",
      "MSE: 33718519580577.645\n"
     ]
    }
   ],
   "source": [
    "DT = DecisionTreeRegressor()\n",
    "DT.fit(X_train,y_train)\n",
    "\n",
    "DT_prediction=DT.predict(X_test)\n",
    "print('Precision :',r2_score(DT_prediction,y_test)*100)\n",
    "print('MAE:',mean_absolute_error(DT_prediction,y_test))\n",
    "print('MSE:',mean_squared_error(DT_prediction,y_test))"
   ]
  },
  {
   "cell_type": "code",
   "execution_count": 54,
   "metadata": {},
   "outputs": [
    {
     "name": "stdout",
     "output_type": "stream",
     "text": [
      "Precision : 85.2974041975841\n",
      "MAE: 355007.1412983266\n",
      "MSE: 30401395545119.79\n"
     ]
    }
   ],
   "source": [
    "RF=RandomForestRegressor(random_state=1,n_estimators=50,max_depth=100)\n",
    "RF.fit(X_train,y_train)\n",
    "\n",
    "RF_prediction=RF.predict(X_test)\n",
    "print('Precision :',r2_score(RF_prediction,y_test)*100)\n",
    "print('MAE:',mean_absolute_error(RF_prediction,y_test))\n",
    "print('MSE:',mean_squared_error(RF_prediction,y_test))"
   ]
  },
  {
   "cell_type": "code",
   "execution_count": 55,
   "metadata": {},
   "outputs": [],
   "source": [
    "def format_price(predicted_price):\n",
    "    if predicted_price >= 10000000:  # If price is 7 digits or more (Crore)\n",
    "        formatted_price = \"{:.2f} Cr ₹\".format(predicted_price / 10000000)\n",
    "    else:  # If price is less than 7 digits (Lakh)\n",
    "        formatted_price = \"{:.2f} L ₹\".format(predicted_price / 100000)\n",
    "    \n",
    "    return formatted_price"
   ]
  },
  {
   "cell_type": "code",
   "execution_count": 58,
   "metadata": {},
   "outputs": [
    {
     "name": "stdout",
     "output_type": "stream",
     "text": [
      "The predicted price for a 2-bedroom house in Ghatkopar is: 1.20 Cr ₹\n"
     ]
    }
   ],
   "source": [
    "from sklearn.preprocessing import LabelEncoder\n",
    "\n",
    "# Create a label encoder object\n",
    "label_encoder = LabelEncoder()\n",
    "\n",
    "input_location = input(\"Enter a location name from the available locations: \")\n",
    "input_bedrooms = int(input(\"Enter the number of bedrooms (maximum 6): \"))\n",
    "\n",
    "# Check if the number of bedrooms exceeds 6\n",
    "if input_bedrooms > 6:\n",
    "    print(\"Houses with more than 6 bedrooms are currently not available.\")\n",
    "else:\n",
    "    # Label encode the input location\n",
    "    input_location_encoded = label_encoder.fit_transform([input_location])[0]\n",
    "\n",
    "    # Filter DataFrame to get the rows corresponding to the input_location and input_bedrooms\n",
    "    location_bedroom_rows = data[(data['Location'] == input_location) & (data['No. of Bedrooms'] == input_bedrooms)]\n",
    "\n",
    "    if not location_bedroom_rows.empty:\n",
    "        # Extract features for prediction\n",
    "        features = location_bedroom_rows.drop(columns=['Price'], errors='ignore')\n",
    "\n",
    "        # Add 'Location' feature with label encoded value\n",
    "        features['Location'] = input_location_encoded\n",
    "\n",
    "        # Ensure 'price_per_sqft' is present in the features DataFrame\n",
    "        if 'Price_per_sqft' not in features.columns:\n",
    "            print(\"Price_per_sqft feature is missing. Please ensure it is included.\")\n",
    "        else:\n",
    "            # Predict house price for the input location and input_bedrooms\n",
    "            predicted_price = RF.predict(features)\n",
    "\n",
    "            # Format the predicted price\n",
    "            formatted_price = format_price(predicted_price[0])\n",
    "\n",
    "            # Display predicted price\n",
    "            print(f\"The predicted price for a {input_bedrooms}-bedroom house in {input_location} is: {formatted_price}\")\n",
    "    else:\n",
    "        print(f\"No data available for a {input_bedrooms}-bedroom house in {input_location}.\")"
   ]
  },
  {
   "cell_type": "code",
   "execution_count": 57,
   "metadata": {},
   "outputs": [],
   "source": [
    "# import joblib\n",
    "# joblib.dump(RF,'model.pkl')"
   ]
  },
  {
   "cell_type": "code",
   "execution_count": null,
   "metadata": {},
   "outputs": [],
   "source": []
  }
 ],
 "metadata": {
  "kernelspec": {
   "display_name": "Python 3",
   "language": "python",
   "name": "python3"
  },
  "language_info": {
   "codemirror_mode": {
    "name": "ipython",
    "version": 3
   },
   "file_extension": ".py",
   "mimetype": "text/x-python",
   "name": "python",
   "nbconvert_exporter": "python",
   "pygments_lexer": "ipython3",
   "version": "3.10.12"
  }
 },
 "nbformat": 4,
 "nbformat_minor": 2
}
